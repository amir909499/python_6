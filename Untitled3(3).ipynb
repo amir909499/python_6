{
 "cells": [
  {
   "cell_type": "code",
   "execution_count": 1,
   "id": "d1920438-7b84-4967-b48a-c6b4c6f86269",
   "metadata": {},
   "outputs": [],
   "source": [
    "def a(x):\n",
    "    c=x**2+2*x\n",
    "    return c\n",
    "\n",
    "def b(x):\n",
    "    c= 2*x+2   \n",
    "    return c\n",
    "\n",
    "def f(x):\n",
    "    d=a(x)-a(x)/b(x)\n",
    "    return d"
   ]
  },
  {
   "cell_type": "code",
   "execution_count": 2,
   "id": "e571086a-9211-412e-aa68-f898b392fe6e",
   "metadata": {},
   "outputs": [
    {
     "data": {
      "text/plain": [
       "429.5238095238095"
      ]
     },
     "execution_count": 2,
     "metadata": {},
     "output_type": "execute_result"
    }
   ],
   "source": [
    "f(20)"
   ]
  },
  {
   "cell_type": "code",
   "execution_count": null,
   "id": "6df6c68d-af4f-44e6-a962-15cae6c60647",
   "metadata": {},
   "outputs": [],
   "source": []
  }
 ],
 "metadata": {
  "kernelspec": {
   "display_name": "Python 3 (ipykernel)",
   "language": "python",
   "name": "python3"
  },
  "language_info": {
   "codemirror_mode": {
    "name": "ipython",
    "version": 3
   },
   "file_extension": ".py",
   "mimetype": "text/x-python",
   "name": "python",
   "nbconvert_exporter": "python",
   "pygments_lexer": "ipython3",
   "version": "3.8.1"
  }
 },
 "nbformat": 4,
 "nbformat_minor": 5
}
