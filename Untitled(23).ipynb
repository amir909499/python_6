{
 "cells": [
  {
   "cell_type": "code",
   "execution_count": 4,
   "id": "c573b6d9-a425-4241-934b-c4fd7f882e02",
   "metadata": {},
   "outputs": [
    {
     "name": "stdout",
     "output_type": "stream",
     "text": [
      "rima\n"
     ]
    }
   ],
   "source": [
    "string = \"amir\"\n",
    "b=\"\"\n",
    "for i in string:\n",
    "    b=i+b\n",
    "    \n",
    "    \n",
    "print(b)"
   ]
  },
  {
   "cell_type": "code",
   "execution_count": null,
   "id": "42085dc0-cbad-4f4d-b799-beffd4539c12",
   "metadata": {},
   "outputs": [],
   "source": []
  }
 ],
 "metadata": {
  "kernelspec": {
   "display_name": "Python 3 (ipykernel)",
   "language": "python",
   "name": "python3"
  },
  "language_info": {
   "codemirror_mode": {
    "name": "ipython",
    "version": 3
   },
   "file_extension": ".py",
   "mimetype": "text/x-python",
   "name": "python",
   "nbconvert_exporter": "python",
   "pygments_lexer": "ipython3",
   "version": "3.8.1"
  }
 },
 "nbformat": 4,
 "nbformat_minor": 5
}
