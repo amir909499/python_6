{
 "cells": [
  {
   "cell_type": "code",
   "execution_count": 1,
   "id": "d7f07806-594c-4fcb-af4a-63d6751846e7",
   "metadata": {},
   "outputs": [],
   "source": [
    "def a(string):\n",
    "    lowercase=''\n",
    "    uppercase=''\n",
    "   \n",
    "    for i in string:\n",
    "        if (i.islower()):\n",
    "            lowercase += i\n",
    "        elif (i.isupper()):\n",
    "            uppercase += i\n",
    "\n",
    "        print(lowercase)\n",
    "        print(uppercase)"
   ]
  },
  {
   "cell_type": "code",
   "execution_count": 2,
   "id": "e1c85d6f-1269-466f-9d70-9bf9736b0fa6",
   "metadata": {},
   "outputs": [
    {
     "name": "stdout",
     "output_type": "stream",
     "text": [
      "\n",
      "\n",
      "\n",
      "\n",
      "\n",
      "A\n",
      "b\n",
      "A\n",
      "b\n",
      "A\n",
      "bo\n",
      "A\n",
      "bo\n",
      "AW\n",
      "bom\n",
      "AW\n",
      "bom\n",
      "AW\n"
     ]
    }
   ],
   "source": [
    "a(\"+-Ab@oWm-\")"
   ]
  },
  {
   "cell_type": "code",
   "execution_count": null,
   "id": "8a010efd-ef72-4f86-ac10-535317fc27d6",
   "metadata": {},
   "outputs": [],
   "source": []
  }
 ],
 "metadata": {
  "kernelspec": {
   "display_name": "Python 3 (ipykernel)",
   "language": "python",
   "name": "python3"
  },
  "language_info": {
   "codemirror_mode": {
    "name": "ipython",
    "version": 3
   },
   "file_extension": ".py",
   "mimetype": "text/x-python",
   "name": "python",
   "nbconvert_exporter": "python",
   "pygments_lexer": "ipython3",
   "version": "3.8.1"
  }
 },
 "nbformat": 4,
 "nbformat_minor": 5
}
